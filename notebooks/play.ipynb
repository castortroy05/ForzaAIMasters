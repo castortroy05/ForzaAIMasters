{
 "cells": [
  {
   "cell_type": "code",
   "execution_count": 1,
   "metadata": {},
   "outputs": [
    {
     "ename": "ModuleNotFoundError",
     "evalue": "No module named 'numpy'",
     "output_type": "error",
     "traceback": [
      "\u001b[1;31m---------------------------------------------------------------------------\u001b[0m",
      "\u001b[1;31mModuleNotFoundError\u001b[0m                       Traceback (most recent call last)",
      "\u001b[1;32m<ipython-input-1-d77e16385af6>\u001b[0m in \u001b[0;36m<module>\u001b[1;34m\u001b[0m\n\u001b[1;32m----> 1\u001b[1;33m \u001b[1;32mimport\u001b[0m \u001b[0mnumpy\u001b[0m \u001b[1;32mas\u001b[0m \u001b[0mnp\u001b[0m\u001b[1;33m\u001b[0m\u001b[1;33m\u001b[0m\u001b[0m\n\u001b[0m\u001b[0;32m      2\u001b[0m \u001b[1;32mfrom\u001b[0m \u001b[0mPIL\u001b[0m \u001b[1;32mimport\u001b[0m \u001b[0mImageGrab\u001b[0m\u001b[1;33m\u001b[0m\u001b[1;33m\u001b[0m\u001b[0m\n\u001b[0;32m      3\u001b[0m \u001b[1;32mfrom\u001b[0m \u001b[0mcontroller\u001b[0m \u001b[1;32mimport\u001b[0m \u001b[0mController\u001b[0m\u001b[1;33m\u001b[0m\u001b[1;33m\u001b[0m\u001b[0m\n\u001b[0;32m      4\u001b[0m \u001b[1;32mfrom\u001b[0m \u001b[0mmodel\u001b[0m \u001b[1;32mimport\u001b[0m \u001b[0mDQNAgent\u001b[0m\u001b[1;33m\u001b[0m\u001b[1;33m\u001b[0m\u001b[0m\n\u001b[0;32m      5\u001b[0m \u001b[1;33m\u001b[0m\u001b[0m\n",
      "\u001b[1;31mModuleNotFoundError\u001b[0m: No module named 'numpy'"
     ]
    }
   ],
   "source": [
    "import numpy as np\n",
    "from PIL import ImageGrab\n",
    "from controller import GamepadController\n",
    "from model import DQNAgent\n",
    "\n",
    "# Initialize the game environment and the agent\n",
    "controller = GamepadController()\n",
    "steering_agent = DQNAgent(input_shape=(84, 84, 4), action_space=3)\n",
    "speed_agent = DQNAgent(input_shape=(84, 84, 4), action_space=3)\n",
    "\n",
    "# Load the agent's model if it exists\n",
    "# ...\n",
    "\n",
    "# Run the game loop\n",
    "while True:\n",
    "    # Observe the current state of the game\n",
    "    screen = np.array(ImageGrab.grab(bbox=(0, 40, 800, 640)))\n",
    "\n",
    "    # Select an action for each agent\n",
    "    steering_action = steering_agent.select_action(screen)\n",
    "    speed_action = speed_agent.select_action(screen)\n",
    "\n",
    "    # Perform the action in the game\n",
    "    controller.set_steering(steering_action)\n",
    "    controller.set_speed(speed_action)\n",
    "\n",
    "    # Observe the new state and the reward\n",
    "    new_screen = np.array(ImageGrab.grab(bbox=(0, 40, 800, 640)))\n",
    "    reward = compute_reward(new_screen)  # You will need to define this function\n",
    "\n",
    "    # Store the experience in the agent's memory\n",
    "    steering_agent.remember(screen, steering_action, reward, new_screen)\n",
    "    speed_agent.remember(screen, speed_action, reward, new_screen)\n",
    "\n",
    "    # Train the agent\n",
    "    if len(steering_agent.memory) > batch_size:\n",
    "        steering_agent.train(batch_size)\n",
    "    if len(speed_agent.memory) > batch_size:\n",
    "        speed_agent.train(batch_size)\n",
    "\n",
    "    # Save the agent's model periodically\n",
    "    # ...\n"
   ]
  }
 ],
 "metadata": {
  "kernelspec": {
   "display_name": "xbox_ai",
   "language": "python",
   "name": "python3"
  },
  "language_info": {
   "codemirror_mode": {
    "name": "ipython",
    "version": 3
   },
   "file_extension": ".py",
   "mimetype": "text/x-python",
   "name": "python",
   "nbconvert_exporter": "python",
   "pygments_lexer": "ipython3",
   "version": "3.6.13"
  },
  "orig_nbformat": 4
 },
 "nbformat": 4,
 "nbformat_minor": 2
}
