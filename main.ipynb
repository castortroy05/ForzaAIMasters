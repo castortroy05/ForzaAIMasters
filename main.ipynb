{
 "cells": [
  {
   "attachments": {},
   "cell_type": "markdown",
   "metadata": {},
   "source": [
    "# Main\n",
    "\n",
    "This notebook serves as the main entry point for the project. It orchestrates the execution of other notebooks/scripts for data processing, model training, and model evaluation."
   ]
  },
  {
   "cell_type": "code",
   "execution_count": null,
   "metadata": {},
   "outputs": [],
   "source": [
    "# Import necessary libraries\n",
    "import os\n",
    "import subprocess\n",
    "\n",
    "# Define paths to notebooks\n",
    "data_processing_notebook = os.path.join('notebooks', 'data_processing.ipynb')\n",
    "model_training_notebook = os.path.join('notebooks', 'model_training.ipynb')\n",
    "model_evaluation_notebook = os.path.join('notebooks', 'model_evaluation.ipynb')\n",
    "\n",
    "# Run the data processing notebook\n",
    "subprocess.check_call(['jupyter', 'nbconvert', '--execute', data_processing_notebook])\n",
    "\n",
    "# Run the model training notebook\n",
    "subprocess.check_call(['jupyter', 'nbconvert', '--execute', model_training_notebook])\n",
    "\n",
    "# Run the model evaluation notebook\n",
    "subprocess.check_call(['jupyter', 'nbconvert', '--execute', model_evaluation_notebook])"
   ]
  }
 ],
 "metadata": {
  "language_info": {
   "name": "python"
  },
  "orig_nbformat": 4
 },
 "nbformat": 4,
 "nbformat_minor": 2
}
