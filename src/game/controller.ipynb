{
 "cells": [
  {
   "cell_type": "code",
   "execution_count": 1,
   "metadata": {},
   "outputs": [],
   "source": [
    "import vgamepad as vg\n",
    "import time"
   ]
  },
  {
   "cell_type": "code",
   "execution_count": 3,
   "metadata": {},
   "outputs": [],
   "source": [
    "class GamepadController:\n",
    "    def __init__(self):\n",
    "        self.gamepad = vg.VX360Gamepad()\n",
    "\n",
    "    def press_button(self, button):\n",
    "        self.gamepad.press_button(button=button)\n",
    "        self.gamepad.update()\n",
    "        time.sleep(0.5)\n",
    "        self.gamepad.release_button(button=button)\n",
    "        self.gamepad.update()\n",
    "        time.sleep(0.5)\n",
    "\n",
    "    def press_buttons(self, buttons):\n",
    "        for button in buttons:\n",
    "            self.gamepad.press_button(button=button)\n",
    "        self.gamepad.update()\n",
    "        time.sleep(1.0)\n",
    "        for button in buttons:\n",
    "            self.gamepad.release_button(button=button)\n",
    "        self.gamepad.update()\n",
    "        time.sleep(1.0)\n",
    "\n",
    "    def reset(self):\n",
    "        self.gamepad.reset()\n",
    "        self.gamepad.update()\n",
    "        time.sleep(1.0)"
   ]
  },
  {
   "cell_type": "code",
   "execution_count": 4,
   "metadata": {},
   "outputs": [],
   "source": [
    "def test_controller():\n",
    "    controller = GamepadController()\n",
    "\n",
    "    # Test single button press\n",
    "    print(\"Testing single button press...\")\n",
    "    controller.press_button(vg.XUSB_BUTTON.XUSB_GAMEPAD_A)\n",
    "    print(\"Single button press test completed.\")\n",
    "\n",
    "    # Test multiple button press\n",
    "    print(\"Testing multiple button press...\")\n",
    "    buttons = [\n",
    "        vg.XUSB_BUTTON.XUSB_GAMEPAD_A,\n",
    "        vg.XUSB_BUTTON.XUSB_GAMEPAD_LEFT_SHOULDER,\n",
    "        vg.XUSB_BUTTON.XUSB_GAMEPAD_DPAD_DOWN,\n",
    "        vg.XUSB_BUTTON.XUSB_GAMEPAD_DPAD_LEFT\n",
    "    ]\n",
    "    controller.press_buttons(buttons)\n",
    "    print(\"Multiple button press test completed.\")\n",
    "\n",
    "    # Reset controller\n",
    "    print(\"Resetting controller...\")\n",
    "    controller.reset()\n",
    "    print(\"Controller reset completed.\")\n",
    "\n",
    "    # Prompt to end the function\n",
    "    input(\"Press Enter to return to the main menu...\")\n"
   ]
  },
  {
   "cell_type": "code",
   "execution_count": 5,
   "metadata": {},
   "outputs": [],
   "source": [
    "test_controller()"
   ]
  }
 ],
 "metadata": {
  "kernelspec": {
   "display_name": "xbox_ai",
   "language": "python",
   "name": "python3"
  },
  "language_info": {
   "codemirror_mode": {
    "name": "ipython",
    "version": 3
   },
   "file_extension": ".py",
   "mimetype": "text/x-python",
   "name": "python",
   "nbconvert_exporter": "python",
   "pygments_lexer": "ipython3",
   "version": "3.10.8"
  },
  "orig_nbformat": 4
 },
 "nbformat": 4,
 "nbformat_minor": 2
}
