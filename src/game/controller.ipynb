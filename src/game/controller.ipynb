{
 "cells": [
  {
   "cell_type": "code",
   "execution_count": 2,
   "metadata": {},
   "outputs": [],
   "source": [
    "import vgamepad as vg\n",
    "import time\n",
    "\n",
    "gamepad = vg.VX360Gamepad()\n",
    "\n",
    "# press a button to wake the device up\n",
    "gamepad.press_button(button=vg.XUSB_BUTTON.XUSB_GAMEPAD_A)\n",
    "gamepad.update()\n",
    "time.sleep(0.5)\n",
    "gamepad.release_button(button=vg.XUSB_BUTTON.XUSB_GAMEPAD_A)\n",
    "gamepad.update()\n",
    "time.sleep(0.5)\n",
    "\n",
    "# press buttons and things\n",
    "gamepad.press_button(button=vg.XUSB_BUTTON.XUSB_GAMEPAD_A)\n",
    "gamepad.press_button(button=vg.XUSB_BUTTON.XUSB_GAMEPAD_LEFT_SHOULDER)\n",
    "gamepad.press_button(button=vg.XUSB_BUTTON.XUSB_GAMEPAD_DPAD_DOWN)\n",
    "gamepad.press_button(button=vg.XUSB_BUTTON.XUSB_GAMEPAD_DPAD_LEFT)\n",
    "gamepad.left_trigger_float(value_float=0.5)\n",
    "gamepad.right_trigger_float(value_float=0.5)\n",
    "gamepad.left_joystick_float(x_value_float=0.0, y_value_float=0.2)\n",
    "gamepad.right_joystick_float(x_value_float=-1.0, y_value_float=1.0)\n",
    "\n",
    "gamepad.update()\n",
    "\n",
    "time.sleep(1.0)\n",
    "\n",
    "# release buttons and things\n",
    "gamepad.release_button(button=vg.XUSB_BUTTON.XUSB_GAMEPAD_A)\n",
    "gamepad.release_button(button=vg.XUSB_BUTTON.XUSB_GAMEPAD_DPAD_LEFT)\n",
    "gamepad.right_trigger_float(value_float=0.0)\n",
    "gamepad.right_joystick_float(x_value_float=0.0, y_value_float=0.0)\n",
    "\n",
    "gamepad.update()\n",
    "\n",
    "time.sleep(1.0)\n",
    "\n",
    "# reset gamepad to default state\n",
    "gamepad.reset()\n",
    "\n",
    "gamepad.update()\n",
    "\n",
    "time.sleep(1.0)"
   ]
  }
 ],
 "metadata": {
  "kernelspec": {
   "display_name": "xbox_ai",
   "language": "python",
   "name": "python3"
  },
  "language_info": {
   "codemirror_mode": {
    "name": "ipython",
    "version": 3
   },
   "file_extension": ".py",
   "mimetype": "text/x-python",
   "name": "python",
   "nbconvert_exporter": "python",
   "pygments_lexer": "ipython3",
   "version": "3.6.13"
  },
  "orig_nbformat": 4
 },
 "nbformat": 4,
 "nbformat_minor": 2
}
