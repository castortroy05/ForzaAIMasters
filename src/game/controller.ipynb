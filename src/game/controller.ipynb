{
 "cells": [
  {
   "cell_type": "code",
   "execution_count": 2,
   "metadata": {},
   "outputs": [],
   "source": [
    "import vgamepad as vg\n",
    "import time"
   ]
  },
  {
   "cell_type": "code",
   "execution_count": null,
   "metadata": {},
   "outputs": [],
   "source": [
    "class GamepadController:\n",
    "    def __init__(self):\n",
    "        self.gamepad = vg.VX360Gamepad()\n",
    "\n",
    "    def press_button(self, button):\n",
    "        self.gamepad.press_button(button=button)\n",
    "        self.gamepad.update()\n",
    "        time.sleep(0.5)\n",
    "        self.gamepad.release_button(button=button)\n",
    "        self.gamepad.update()\n",
    "        time.sleep(0.5)\n",
    "\n",
    "    def press_buttons(self, buttons):\n",
    "        for button in buttons:\n",
    "            self.gamepad.press_button(button=button)\n",
    "        self.gamepad.update()\n",
    "        time.sleep(1.0)\n",
    "        for button in buttons:\n",
    "            self.gamepad.release_button(button=button)\n",
    "        self.gamepad.update()\n",
    "        time.sleep(1.0)\n",
    "\n",
    "    def reset(self):\n",
    "        self.gamepad.reset()\n",
    "        self.gamepad.update()\n",
    "        time.sleep(1.0)"
   ]
  },
  {
   "cell_type": "code",
   "execution_count": null,
   "metadata": {},
   "outputs": [],
   "source": [
    "def test_controller():\n",
    "    controller = GamepadController()\n",
    "\n",
    "    # Test single button press\n",
    "    controller.press_button(vg.XUSB_BUTTON.XUSB_GAMEPAD_A)\n",
    "\n",
    "    # Test multiple button press\n",
    "    buttons = [\n",
    "        vg.XUSB_BUTTON.XUSB_GAMEPAD_A,\n",
    "        vg.XUSB_BUTTON.XUSB_GAMEPAD_LEFT_SHOULDER,\n",
    "        vg.XUSB_BUTTON.XUSB_GAMEPAD_DPAD_DOWN,\n",
    "        vg.XUSB_BUTTON.XUSB_GAMEPAD_DPAD_LEFT\n",
    "    ]\n",
    "    controller.press_buttons(buttons)\n",
    "\n",
    "    # Reset controller\n",
    "    controller.reset()"
   ]
  }
 ],
 "metadata": {
  "kernelspec": {
   "display_name": "xbox_ai",
   "language": "python",
   "name": "python3"
  },
  "language_info": {
   "codemirror_mode": {
    "name": "ipython",
    "version": 3
   },
   "file_extension": ".py",
   "mimetype": "text/x-python",
   "name": "python",
   "nbconvert_exporter": "python",
   "pygments_lexer": "ipython3",
   "version": "3.6.13"
  },
  "orig_nbformat": 4
 },
 "nbformat": 4,
 "nbformat_minor": 2
}
