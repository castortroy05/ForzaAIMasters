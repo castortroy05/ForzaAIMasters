{
 "cells": [
  {
   "cell_type": "code",
   "execution_count": 5,
   "metadata": {},
   "outputs": [],
   "source": [
    "import os\n",
    "import numpy as np\n",
    "import tensorflow as tf\n",
    "\n",
    "#set the model directory\n",
    "model_dir =\".\\src\\models\"\n"
   ]
  },
  {
   "cell_type": "code",
   "execution_count": 2,
   "metadata": {},
   "outputs": [],
   "source": [
    "\n",
    "def save_model(model, model_dir):\n",
    "    '''\n",
    "    Function to save a TensorFlow model to disk.\n",
    "    '''\n",
    "    model_path = f\"{model_dir}/model\"\n",
    "    model.save(model_path)\n"
   ]
  },
  {
   "cell_type": "code",
   "execution_count": 3,
   "metadata": {},
   "outputs": [],
   "source": [
    "\n",
    "def load_model(model_dir):\n",
    "    '''\n",
    "    Function to load a TensorFlow model from disk.\n",
    "    '''\n",
    "    model_path = f\"{model_dir}/model\"\n",
    "    model = tf.keras.models.load_model(model_path)\n",
    "    return model"
   ]
  },
  {
   "cell_type": "code",
   "execution_count": 4,
   "metadata": {},
   "outputs": [],
   "source": [
    "def preprocess_game_data(game_data):\n",
    "    '''\n",
    "    Function to preprocess game data.\n",
    "    '''\n",
    "    # TODO: Implement function to preprocess game data\n",
    "    pass\n"
   ]
  },
  {
   "cell_type": "code",
   "execution_count": null,
   "metadata": {},
   "outputs": [],
   "source": [
    "def postprocess_game_data(game_data):\n",
    "    '''\n",
    "    Function to postprocess game data.\n",
    "    '''\n",
    "    # TODO: Implement function to postprocess game data\n",
    "    pass"
   ]
  },
  {
   "cell_type": "code",
   "execution_count": 6,
   "metadata": {},
   "outputs": [
    {
     "name": "stdout",
     "output_type": "stream",
     "text": [
      "[PhysicalDevice(name='/physical_device:GPU:0', device_type='GPU'), PhysicalDevice(name='/physical_device:GPU:1', device_type='GPU')]\n"
     ]
    }
   ],
   "source": [
    "gpus = tf.config.experimental.list_physical_devices(device_type=\"GPU\")\n",
    "print(gpus)\n"
   ]
  }
 ],
 "metadata": {
  "kernelspec": {
   "display_name": "xbox_ai",
   "language": "python",
   "name": "python3"
  },
  "language_info": {
   "codemirror_mode": {
    "name": "ipython",
    "version": 3
   },
   "file_extension": ".py",
   "mimetype": "text/x-python",
   "name": "python",
   "nbconvert_exporter": "python",
   "pygments_lexer": "ipython3",
   "version": "3.6.13"
  },
  "orig_nbformat": 4
 },
 "nbformat": 4,
 "nbformat_minor": 2
}
