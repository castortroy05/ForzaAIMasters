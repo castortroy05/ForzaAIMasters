{
 "cells": [
  {
   "cell_type": "code",
   "execution_count": 1,
   "metadata": {},
   "outputs": [
    {
     "name": "stderr",
     "output_type": "stream",
     "text": [
      "c:\\Users\\Antony\\anaconda3\\envs\\ds\\lib\\site-packages\\scipy\\__init__.py:146: UserWarning: A NumPy version >=1.16.5 and <1.23.0 is required for this version of SciPy (detected version 1.24.1\n",
      "  warnings.warn(f\"A NumPy version >={np_minversion} and <{np_maxversion}\"\n"
     ]
    }
   ],
   "source": [
    "import os\n",
    "import numpy as np\n",
    "import tensorflow as tf\n",
    "\n",
    "#set the model directory\n",
    "model_dir =\".\\src\\models\"\n"
   ]
  },
  {
   "cell_type": "code",
   "execution_count": 2,
   "metadata": {},
   "outputs": [],
   "source": [
    "\n",
    "def save_model(model, model_dir):\n",
    "    '''\n",
    "    Function to save a TensorFlow model to disk.\n",
    "    '''\n",
    "    model_path = f\"{model_dir}/model\"\n",
    "    model.save(model_path)\n"
   ]
  },
  {
   "cell_type": "code",
   "execution_count": 3,
   "metadata": {},
   "outputs": [],
   "source": [
    "\n",
    "def load_model(model_dir):\n",
    "    '''\n",
    "    Function to load a TensorFlow model from disk.\n",
    "    '''\n",
    "    model_path = f\"{model_dir}/model\"\n",
    "    model = tf.keras.models.load_model(model_path)\n",
    "    return model"
   ]
  },
  {
   "cell_type": "code",
   "execution_count": 4,
   "metadata": {},
   "outputs": [],
   "source": [
    "def preprocess_game_data(game_data):\n",
    "    '''\n",
    "    Function to preprocess game data.\n",
    "    '''\n",
    "    # TODO: Implement function to preprocess game data\n",
    "    pass\n"
   ]
  },
  {
   "cell_type": "code",
   "execution_count": null,
   "metadata": {},
   "outputs": [],
   "source": [
    "def postprocess_game_data(game_data):\n",
    "    '''\n",
    "    Function to postprocess game data.\n",
    "    '''\n",
    "    # TODO: Implement function to postprocess game data\n",
    "    pass"
   ]
  },
  {
   "cell_type": "code",
   "execution_count": 3,
   "metadata": {},
   "outputs": [
    {
     "ename": "KeyboardInterrupt",
     "evalue": "",
     "output_type": "error",
     "traceback": [
      "\u001b[1;31m---------------------------------------------------------------------------\u001b[0m",
      "\u001b[1;31mKeyboardInterrupt\u001b[0m                         Traceback (most recent call last)",
      "Cell \u001b[1;32mIn[3], line 34\u001b[0m\n\u001b[0;32m     31\u001b[0m     \u001b[39mbreak\u001b[39;00m\n\u001b[0;32m     33\u001b[0m \u001b[39m# Wait for 1 second before capturing the next frame\u001b[39;00m\n\u001b[1;32m---> 34\u001b[0m time\u001b[39m.\u001b[39;49msleep(\u001b[39m1\u001b[39;49m)\n",
      "\u001b[1;31mKeyboardInterrupt\u001b[0m: "
     ]
    },
    {
     "ename": "",
     "evalue": "",
     "output_type": "error",
     "traceback": [
      "\u001b[1;31mThe Kernel crashed while executing code in the current cell or a previous cell. Please review the code in the cell(s) to identify a possible cause of the failure. Click <a href='https://aka.ms/vscodeJupyterKernelCrash'>here</a> for more info. View Jupyter <a href='command:jupyter.viewOutput'>log</a> for further details."
     ]
    }
   ],
   "source": [
    "from mss import mss\n",
    "import cv2\n",
    "import numpy as np\n",
    "import pygetwindow as gw\n",
    "import time\n",
    "\n",
    "# Initialize the screen capture tool\n",
    "sct = mss()\n",
    "\n",
    "# Get the game window\n",
    "window_title = \"Forza Motorsport 7\"\n",
    "game_window = gw.getWindowsWithTitle(window_title)[0]\n",
    "\n",
    "# Define the monitor region for capturing\n",
    "monitor = {\n",
    "    \"top\": game_window.top,\n",
    "    \"left\": game_window.left,\n",
    "    \"width\": game_window.width,\n",
    "    \"height\": game_window.height\n",
    "}\n",
    "\n",
    "while True:\n",
    "    # Capture the game window\n",
    "    screenshot = sct.grab(monitor)\n",
    "    img = np.array(screenshot)\n",
    "\n",
    "    # Display the captured image\n",
    "    cv2.imshow('Game Capture', img)\n",
    "    if cv2.waitKey(1) & 0xFF == ord('q'):\n",
    "        cv2.destroyAllWindows()\n",
    "        break\n",
    "\n",
    "    # Wait for 1 second before capturing the next frame\n",
    "    time.sleep(1)"
   ]
  },
  {
   "cell_type": "code",
   "execution_count": 6,
   "metadata": {},
   "outputs": [
    {
     "name": "stdout",
     "output_type": "stream",
     "text": [
      "[PhysicalDevice(name='/physical_device:GPU:0', device_type='GPU'), PhysicalDevice(name='/physical_device:GPU:1', device_type='GPU')]\n"
     ]
    }
   ],
   "source": [
    "gpus = tf.config.experimental.list_physical_devices(device_type=\"GPU\")\n",
    "print(gpus)\n"
   ]
  }
 ],
 "metadata": {
  "kernelspec": {
   "display_name": "xbox_ai",
   "language": "python",
   "name": "python3"
  },
  "language_info": {
   "codemirror_mode": {
    "name": "ipython",
    "version": 3
   },
   "file_extension": ".py",
   "mimetype": "text/x-python",
   "name": "python",
   "nbconvert_exporter": "python",
   "pygments_lexer": "ipython3",
   "version": "3.10.8"
  },
  "orig_nbformat": 4
 },
 "nbformat": 4,
 "nbformat_minor": 2
}
